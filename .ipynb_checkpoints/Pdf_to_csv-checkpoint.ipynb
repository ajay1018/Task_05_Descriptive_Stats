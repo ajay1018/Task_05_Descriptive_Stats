{
 "cells": [
  {
   "cell_type": "code",
   "execution_count": 2,
   "id": "a072b916-a2e1-4d76-9e3f-186ada33d8f7",
   "metadata": {},
   "outputs": [
    {
     "name": "stdout",
     "output_type": "stream",
     "text": [
      "Tables Found: <TableList n=2>\n"
     ]
    }
   ],
   "source": [
    "import camelot\n",
    "\n",
    "# Extract tables\n",
    "tables = camelot.read_pdf(\"cume.pdf\", pages=\"1\", flavor=\"stream\")  # adjust page if needed\n",
    "print(\"Tables Found:\", tables)\n",
    "\n",
    "# Export first table to CSV\n",
    "tables[0].to_csv(\"basketball_2023.csv\")\n"
   ]
  },
  {
   "cell_type": "code",
   "execution_count": null,
   "id": "ff062d06-2c2f-469d-86f8-1ad6b76ad247",
   "metadata": {},
   "outputs": [],
   "source": []
  }
 ],
 "metadata": {
  "kernelspec": {
   "display_name": "Python 3 (ipykernel)",
   "language": "python",
   "name": "python3"
  },
  "language_info": {
   "codemirror_mode": {
    "name": "ipython",
    "version": 3
   },
   "file_extension": ".py",
   "mimetype": "text/x-python",
   "name": "python",
   "nbconvert_exporter": "python",
   "pygments_lexer": "ipython3",
   "version": "3.12.3"
  }
 },
 "nbformat": 4,
 "nbformat_minor": 5
}
