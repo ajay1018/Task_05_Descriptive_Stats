{
 "cells": [
  {
   "cell_type": "code",
   "execution_count": 1,
   "id": "ca3deed6-c07b-461f-ab30-1c645a7ac2c5",
   "metadata": {},
   "outputs": [
    {
     "name": "stdout",
     "output_type": "stream",
     "text": [
      "Players: 17\n",
      "Columns: ['Unnamed: 0', 'Unnamed: 1', 'Unnamed: 2', 'Unnamed: 3', 'Overall Record: 20-12   Conf: 11-9   Home: 14-2   Away: 4-7   Neutral: 2-3', 'Unnamed: 5', 'Unnamed: 6', 'Unnamed: 7', 'Unnamed: 8', 'Unnamed: 9', 'Unnamed: 10', 'Unnamed: 11', 'Unnamed: 12', 'Unnamed: 13', 'Unnamed: 14', 'Unnamed: 15', 'Unnamed: 16', 'Unnamed: 17', 'Unnamed: 18', 'Unnamed: 19', 'Unnamed: 20', 'Unnamed: 21', 'Unnamed: 22']\n"
     ]
    },
    {
     "ename": "KeyError",
     "evalue": "'PTS'",
     "output_type": "error",
     "traceback": [
      "\u001b[1;31m---------------------------------------------------------------------------\u001b[0m",
      "\u001b[1;31mKeyError\u001b[0m                                  Traceback (most recent call last)",
      "File \u001b[1;32m~\\AppData\\Local\\Programs\\Python\\Python312\\Lib\\site-packages\\pandas\\core\\indexes\\base.py:3805\u001b[0m, in \u001b[0;36mIndex.get_loc\u001b[1;34m(self, key)\u001b[0m\n\u001b[0;32m   3804\u001b[0m \u001b[38;5;28;01mtry\u001b[39;00m:\n\u001b[1;32m-> 3805\u001b[0m     \u001b[38;5;28;01mreturn\u001b[39;00m \u001b[38;5;28;43mself\u001b[39;49m\u001b[38;5;241;43m.\u001b[39;49m\u001b[43m_engine\u001b[49m\u001b[38;5;241;43m.\u001b[39;49m\u001b[43mget_loc\u001b[49m\u001b[43m(\u001b[49m\u001b[43mcasted_key\u001b[49m\u001b[43m)\u001b[49m\n\u001b[0;32m   3806\u001b[0m \u001b[38;5;28;01mexcept\u001b[39;00m \u001b[38;5;167;01mKeyError\u001b[39;00m \u001b[38;5;28;01mas\u001b[39;00m err:\n",
      "File \u001b[1;32mindex.pyx:167\u001b[0m, in \u001b[0;36mpandas._libs.index.IndexEngine.get_loc\u001b[1;34m()\u001b[0m\n",
      "File \u001b[1;32mindex.pyx:196\u001b[0m, in \u001b[0;36mpandas._libs.index.IndexEngine.get_loc\u001b[1;34m()\u001b[0m\n",
      "File \u001b[1;32mpandas\\\\_libs\\\\hashtable_class_helper.pxi:7081\u001b[0m, in \u001b[0;36mpandas._libs.hashtable.PyObjectHashTable.get_item\u001b[1;34m()\u001b[0m\n",
      "File \u001b[1;32mpandas\\\\_libs\\\\hashtable_class_helper.pxi:7089\u001b[0m, in \u001b[0;36mpandas._libs.hashtable.PyObjectHashTable.get_item\u001b[1;34m()\u001b[0m\n",
      "\u001b[1;31mKeyError\u001b[0m: 'PTS'",
      "\nThe above exception was the direct cause of the following exception:\n",
      "\u001b[1;31mKeyError\u001b[0m                                  Traceback (most recent call last)",
      "File \u001b[1;32mD:\\Python_ws\\RA-Syracuse\\Task_05_Descriptive_Stats\\scripts\\validate_stats.py:9\u001b[0m\n\u001b[0;32m      6\u001b[0m \u001b[38;5;28mprint\u001b[39m(\u001b[38;5;124m\"\u001b[39m\u001b[38;5;124mColumns:\u001b[39m\u001b[38;5;124m\"\u001b[39m, df\u001b[38;5;241m.\u001b[39mcolumns\u001b[38;5;241m.\u001b[39mtolist())\n\u001b[0;32m      8\u001b[0m \u001b[38;5;66;03m# Top Scorer\u001b[39;00m\n\u001b[1;32m----> 9\u001b[0m top_scorer \u001b[38;5;241m=\u001b[39m df\u001b[38;5;241m.\u001b[39mloc[\u001b[43mdf\u001b[49m\u001b[43m[\u001b[49m\u001b[38;5;124;43m'\u001b[39;49m\u001b[38;5;124;43mPTS\u001b[39;49m\u001b[38;5;124;43m'\u001b[39;49m\u001b[43m]\u001b[49m\u001b[38;5;241m.\u001b[39midxmax()]\n\u001b[0;32m     10\u001b[0m \u001b[38;5;28mprint\u001b[39m(\u001b[38;5;124m\"\u001b[39m\u001b[38;5;124mTop Scorer:\u001b[39m\u001b[38;5;124m\"\u001b[39m, top_scorer[\u001b[38;5;124m'\u001b[39m\u001b[38;5;124mPlayer\u001b[39m\u001b[38;5;124m'\u001b[39m], \u001b[38;5;124m\"\u001b[39m\u001b[38;5;124m-\u001b[39m\u001b[38;5;124m\"\u001b[39m, top_scorer[\u001b[38;5;124m'\u001b[39m\u001b[38;5;124mPTS\u001b[39m\u001b[38;5;124m'\u001b[39m], \u001b[38;5;124m\"\u001b[39m\u001b[38;5;124mpoints\u001b[39m\u001b[38;5;124m\"\u001b[39m)\n\u001b[0;32m     12\u001b[0m \u001b[38;5;66;03m# Best 3PT%\u001b[39;00m\n",
      "File \u001b[1;32m~\\AppData\\Local\\Programs\\Python\\Python312\\Lib\\site-packages\\pandas\\core\\frame.py:4102\u001b[0m, in \u001b[0;36mDataFrame.__getitem__\u001b[1;34m(self, key)\u001b[0m\n\u001b[0;32m   4100\u001b[0m \u001b[38;5;28;01mif\u001b[39;00m \u001b[38;5;28mself\u001b[39m\u001b[38;5;241m.\u001b[39mcolumns\u001b[38;5;241m.\u001b[39mnlevels \u001b[38;5;241m>\u001b[39m \u001b[38;5;241m1\u001b[39m:\n\u001b[0;32m   4101\u001b[0m     \u001b[38;5;28;01mreturn\u001b[39;00m \u001b[38;5;28mself\u001b[39m\u001b[38;5;241m.\u001b[39m_getitem_multilevel(key)\n\u001b[1;32m-> 4102\u001b[0m indexer \u001b[38;5;241m=\u001b[39m \u001b[38;5;28;43mself\u001b[39;49m\u001b[38;5;241;43m.\u001b[39;49m\u001b[43mcolumns\u001b[49m\u001b[38;5;241;43m.\u001b[39;49m\u001b[43mget_loc\u001b[49m\u001b[43m(\u001b[49m\u001b[43mkey\u001b[49m\u001b[43m)\u001b[49m\n\u001b[0;32m   4103\u001b[0m \u001b[38;5;28;01mif\u001b[39;00m is_integer(indexer):\n\u001b[0;32m   4104\u001b[0m     indexer \u001b[38;5;241m=\u001b[39m [indexer]\n",
      "File \u001b[1;32m~\\AppData\\Local\\Programs\\Python\\Python312\\Lib\\site-packages\\pandas\\core\\indexes\\base.py:3812\u001b[0m, in \u001b[0;36mIndex.get_loc\u001b[1;34m(self, key)\u001b[0m\n\u001b[0;32m   3807\u001b[0m     \u001b[38;5;28;01mif\u001b[39;00m \u001b[38;5;28misinstance\u001b[39m(casted_key, \u001b[38;5;28mslice\u001b[39m) \u001b[38;5;129;01mor\u001b[39;00m (\n\u001b[0;32m   3808\u001b[0m         \u001b[38;5;28misinstance\u001b[39m(casted_key, abc\u001b[38;5;241m.\u001b[39mIterable)\n\u001b[0;32m   3809\u001b[0m         \u001b[38;5;129;01mand\u001b[39;00m \u001b[38;5;28many\u001b[39m(\u001b[38;5;28misinstance\u001b[39m(x, \u001b[38;5;28mslice\u001b[39m) \u001b[38;5;28;01mfor\u001b[39;00m x \u001b[38;5;129;01min\u001b[39;00m casted_key)\n\u001b[0;32m   3810\u001b[0m     ):\n\u001b[0;32m   3811\u001b[0m         \u001b[38;5;28;01mraise\u001b[39;00m InvalidIndexError(key)\n\u001b[1;32m-> 3812\u001b[0m     \u001b[38;5;28;01mraise\u001b[39;00m \u001b[38;5;167;01mKeyError\u001b[39;00m(key) \u001b[38;5;28;01mfrom\u001b[39;00m \u001b[38;5;21;01merr\u001b[39;00m\n\u001b[0;32m   3813\u001b[0m \u001b[38;5;28;01mexcept\u001b[39;00m \u001b[38;5;167;01mTypeError\u001b[39;00m:\n\u001b[0;32m   3814\u001b[0m     \u001b[38;5;66;03m# If we have a listlike key, _check_indexing_error will raise\u001b[39;00m\n\u001b[0;32m   3815\u001b[0m     \u001b[38;5;66;03m#  InvalidIndexError. Otherwise we fall through and re-raise\u001b[39;00m\n\u001b[0;32m   3816\u001b[0m     \u001b[38;5;66;03m#  the TypeError.\u001b[39;00m\n\u001b[0;32m   3817\u001b[0m     \u001b[38;5;28mself\u001b[39m\u001b[38;5;241m.\u001b[39m_check_indexing_error(key)\n",
      "\u001b[1;31mKeyError\u001b[0m: 'PTS'"
     ]
    }
   ],
   "source": [
    "%run scripts/validate_stats.py\n"
   ]
  },
  {
   "cell_type": "code",
   "execution_count": 2,
   "id": "d8f1268e-b9a4-4263-be8a-c4bd77ea6dd8",
   "metadata": {},
   "outputs": [
    {
     "name": "stdout",
     "output_type": "stream",
     "text": [
      "  Unnamed: 0      Unnamed: 1 Unnamed: 2 Unnamed: 3  \\\n",
      "0        NaN             NaN        NaN        NaN   \n",
      "1          #          Player      GP-GS        MIN   \n",
      "2         03    Mintz, Judah      32-31       1087   \n",
      "3         02  Starling, J.J.      32-32       1102   \n",
      "4         04     Bell, Chris      32-32        867   \n",
      "\n",
      "  Overall Record: 20-12   Conf: 11-9   Home: 14-2   Away: 4-7   Neutral: 2-3  \\\n",
      "0                                                NaN                           \n",
      "1                                                AVG                           \n",
      "2                                               34.0                           \n",
      "3                                               34.4                           \n",
      "4                                               27.1                           \n",
      "\n",
      "  Unnamed: 5 Unnamed: 6 Unnamed: 7 Unnamed: 8 Unnamed: 9  ... Unnamed: 13  \\\n",
      "0         FG        NaN        3PT        NaN         FT  ...    Rebounds   \n",
      "1     FG-FGA        FG%    3FG-FGA       3FG%     FT-FTA  ...         TOT   \n",
      "2    188-429       .438      24-85       .282    202-264  ...         103   \n",
      "3    171-373       .458     44-136       .324      40-56  ...         103   \n",
      "4    134-309       .434     84-200       .420      32-38  ...          75   \n",
      "\n",
      "  Unnamed: 14 Unnamed: 15 Unnamed: 16 Unnamed: 17 Unnamed: 18 Unnamed: 19  \\\n",
      "0         NaN         NaN         NaN         NaN         NaN         NaN   \n",
      "1         AVG          PF          DQ           A          TO         BLK   \n",
      "2         3.2          70           2         142          94           4   \n",
      "3         3.2          42           0          60          55           6   \n",
      "4         2.3          58           1          21          26          22   \n",
      "\n",
      "  Unnamed: 20 Unnamed: 21 Unnamed: 22  \n",
      "0         NaN         NaN         NaN  \n",
      "1         STL         PTS         AVG  \n",
      "2          67         602        18.8  \n",
      "3          27         426        13.3  \n",
      "4          18         384        12.0  \n",
      "\n",
      "[5 rows x 23 columns]\n",
      "['Unnamed: 0', 'Unnamed: 1', 'Unnamed: 2', 'Unnamed: 3', 'Overall Record: 20-12   Conf: 11-9   Home: 14-2   Away: 4-7   Neutral: 2-3', 'Unnamed: 5', 'Unnamed: 6', 'Unnamed: 7', 'Unnamed: 8', 'Unnamed: 9', 'Unnamed: 10', 'Unnamed: 11', 'Unnamed: 12', 'Unnamed: 13', 'Unnamed: 14', 'Unnamed: 15', 'Unnamed: 16', 'Unnamed: 17', 'Unnamed: 18', 'Unnamed: 19', 'Unnamed: 20', 'Unnamed: 21', 'Unnamed: 22']\n"
     ]
    }
   ],
   "source": [
    "import pandas as pd\n",
    "df = pd.read_csv(\"data/basketball_2023.csv\")\n",
    "print(df.head())\n",
    "print(df.columns.tolist())\n"
   ]
  },
  {
   "cell_type": "code",
   "execution_count": 3,
   "id": "f95e727c-ac49-4fab-897e-002ec036b5ca",
   "metadata": {},
   "outputs": [
    {
     "ename": "KeyError",
     "evalue": "\"['Rebounds', 'Assists', 'Steals', 'Blocks', '3PT%'] not in index\"",
     "output_type": "error",
     "traceback": [
      "\u001b[1;31m---------------------------------------------------------------------------\u001b[0m",
      "\u001b[1;31mKeyError\u001b[0m                                  Traceback (most recent call last)",
      "Cell \u001b[1;32mIn[3], line 22\u001b[0m\n\u001b[0;32m      7\u001b[0m df \u001b[38;5;241m=\u001b[39m df\u001b[38;5;241m.\u001b[39mrename(columns\u001b[38;5;241m=\u001b[39m{\n\u001b[0;32m      8\u001b[0m     \u001b[38;5;124m'\u001b[39m\u001b[38;5;124mUnnamed: 1\u001b[39m\u001b[38;5;124m'\u001b[39m: \u001b[38;5;124m'\u001b[39m\u001b[38;5;124mPlayer\u001b[39m\u001b[38;5;124m'\u001b[39m,\n\u001b[0;32m      9\u001b[0m     \u001b[38;5;124m'\u001b[39m\u001b[38;5;124mUnnamed: 2\u001b[39m\u001b[38;5;124m'\u001b[39m: \u001b[38;5;124m'\u001b[39m\u001b[38;5;124mGP-GS\u001b[39m\u001b[38;5;124m'\u001b[39m,\n\u001b[1;32m   (...)\u001b[0m\n\u001b[0;32m     18\u001b[0m     \u001b[38;5;124m'\u001b[39m\u001b[38;5;124mUnnamed: 9\u001b[39m\u001b[38;5;124m'\u001b[39m: \u001b[38;5;124m'\u001b[39m\u001b[38;5;124mFT\u001b[39m\u001b[38;5;124m%\u001b[39m\u001b[38;5;124m'\u001b[39m\n\u001b[0;32m     19\u001b[0m })\n\u001b[0;32m     21\u001b[0m \u001b[38;5;66;03m# Keep only required columns\u001b[39;00m\n\u001b[1;32m---> 22\u001b[0m df \u001b[38;5;241m=\u001b[39m \u001b[43mdf\u001b[49m\u001b[43m[\u001b[49m\u001b[43m[\u001b[49m\u001b[38;5;124;43m'\u001b[39;49m\u001b[38;5;124;43mPlayer\u001b[39;49m\u001b[38;5;124;43m'\u001b[39;49m\u001b[43m,\u001b[49m\u001b[43m \u001b[49m\u001b[38;5;124;43m'\u001b[39;49m\u001b[38;5;124;43mGP-GS\u001b[39;49m\u001b[38;5;124;43m'\u001b[39;49m\u001b[43m,\u001b[49m\u001b[43m \u001b[49m\u001b[38;5;124;43m'\u001b[39;49m\u001b[38;5;124;43mPTS\u001b[39;49m\u001b[38;5;124;43m'\u001b[39;49m\u001b[43m,\u001b[49m\u001b[43m \u001b[49m\u001b[38;5;124;43m'\u001b[39;49m\u001b[38;5;124;43mAVG\u001b[39;49m\u001b[38;5;124;43m'\u001b[39;49m\u001b[43m,\u001b[49m\u001b[43m \u001b[49m\u001b[38;5;124;43m'\u001b[39;49m\u001b[38;5;124;43mRebounds\u001b[39;49m\u001b[38;5;124;43m'\u001b[39;49m\u001b[43m,\u001b[49m\u001b[43m \u001b[49m\u001b[38;5;124;43m'\u001b[39;49m\u001b[38;5;124;43mAssists\u001b[39;49m\u001b[38;5;124;43m'\u001b[39;49m\u001b[43m,\u001b[49m\u001b[43m \u001b[49m\u001b[38;5;124;43m'\u001b[39;49m\u001b[38;5;124;43mSteals\u001b[39;49m\u001b[38;5;124;43m'\u001b[39;49m\u001b[43m,\u001b[49m\u001b[43m \u001b[49m\u001b[38;5;124;43m'\u001b[39;49m\u001b[38;5;124;43mBlocks\u001b[39;49m\u001b[38;5;124;43m'\u001b[39;49m\u001b[43m,\u001b[49m\u001b[43m \u001b[49m\u001b[38;5;124;43m'\u001b[39;49m\u001b[38;5;124;43mFG\u001b[39;49m\u001b[38;5;124;43m%\u001b[39;49m\u001b[38;5;124;43m'\u001b[39;49m\u001b[43m,\u001b[49m\u001b[43m \u001b[49m\u001b[38;5;124;43m'\u001b[39;49m\u001b[38;5;124;43m3PT\u001b[39;49m\u001b[38;5;124;43m%\u001b[39;49m\u001b[38;5;124;43m'\u001b[39;49m\u001b[43m,\u001b[49m\u001b[43m \u001b[49m\u001b[38;5;124;43m'\u001b[39;49m\u001b[38;5;124;43mFT\u001b[39;49m\u001b[38;5;124;43m%\u001b[39;49m\u001b[38;5;124;43m'\u001b[39;49m\u001b[43m]\u001b[49m\u001b[43m]\u001b[49m\n\u001b[0;32m     24\u001b[0m \u001b[38;5;66;03m# Drop any rows where Player is NaN or Player == \"#\"\u001b[39;00m\n\u001b[0;32m     25\u001b[0m df \u001b[38;5;241m=\u001b[39m df[df[\u001b[38;5;124m'\u001b[39m\u001b[38;5;124mPlayer\u001b[39m\u001b[38;5;124m'\u001b[39m]\u001b[38;5;241m.\u001b[39mnotna()]\n",
      "File \u001b[1;32m~\\AppData\\Local\\Programs\\Python\\Python312\\Lib\\site-packages\\pandas\\core\\frame.py:4108\u001b[0m, in \u001b[0;36mDataFrame.__getitem__\u001b[1;34m(self, key)\u001b[0m\n\u001b[0;32m   4106\u001b[0m     \u001b[38;5;28;01mif\u001b[39;00m is_iterator(key):\n\u001b[0;32m   4107\u001b[0m         key \u001b[38;5;241m=\u001b[39m \u001b[38;5;28mlist\u001b[39m(key)\n\u001b[1;32m-> 4108\u001b[0m     indexer \u001b[38;5;241m=\u001b[39m \u001b[38;5;28;43mself\u001b[39;49m\u001b[38;5;241;43m.\u001b[39;49m\u001b[43mcolumns\u001b[49m\u001b[38;5;241;43m.\u001b[39;49m\u001b[43m_get_indexer_strict\u001b[49m\u001b[43m(\u001b[49m\u001b[43mkey\u001b[49m\u001b[43m,\u001b[49m\u001b[43m \u001b[49m\u001b[38;5;124;43m\"\u001b[39;49m\u001b[38;5;124;43mcolumns\u001b[39;49m\u001b[38;5;124;43m\"\u001b[39;49m\u001b[43m)\u001b[49m[\u001b[38;5;241m1\u001b[39m]\n\u001b[0;32m   4110\u001b[0m \u001b[38;5;66;03m# take() does not accept boolean indexers\u001b[39;00m\n\u001b[0;32m   4111\u001b[0m \u001b[38;5;28;01mif\u001b[39;00m \u001b[38;5;28mgetattr\u001b[39m(indexer, \u001b[38;5;124m\"\u001b[39m\u001b[38;5;124mdtype\u001b[39m\u001b[38;5;124m\"\u001b[39m, \u001b[38;5;28;01mNone\u001b[39;00m) \u001b[38;5;241m==\u001b[39m \u001b[38;5;28mbool\u001b[39m:\n",
      "File \u001b[1;32m~\\AppData\\Local\\Programs\\Python\\Python312\\Lib\\site-packages\\pandas\\core\\indexes\\base.py:6200\u001b[0m, in \u001b[0;36mIndex._get_indexer_strict\u001b[1;34m(self, key, axis_name)\u001b[0m\n\u001b[0;32m   6197\u001b[0m \u001b[38;5;28;01melse\u001b[39;00m:\n\u001b[0;32m   6198\u001b[0m     keyarr, indexer, new_indexer \u001b[38;5;241m=\u001b[39m \u001b[38;5;28mself\u001b[39m\u001b[38;5;241m.\u001b[39m_reindex_non_unique(keyarr)\n\u001b[1;32m-> 6200\u001b[0m \u001b[38;5;28;43mself\u001b[39;49m\u001b[38;5;241;43m.\u001b[39;49m\u001b[43m_raise_if_missing\u001b[49m\u001b[43m(\u001b[49m\u001b[43mkeyarr\u001b[49m\u001b[43m,\u001b[49m\u001b[43m \u001b[49m\u001b[43mindexer\u001b[49m\u001b[43m,\u001b[49m\u001b[43m \u001b[49m\u001b[43maxis_name\u001b[49m\u001b[43m)\u001b[49m\n\u001b[0;32m   6202\u001b[0m keyarr \u001b[38;5;241m=\u001b[39m \u001b[38;5;28mself\u001b[39m\u001b[38;5;241m.\u001b[39mtake(indexer)\n\u001b[0;32m   6203\u001b[0m \u001b[38;5;28;01mif\u001b[39;00m \u001b[38;5;28misinstance\u001b[39m(key, Index):\n\u001b[0;32m   6204\u001b[0m     \u001b[38;5;66;03m# GH 42790 - Preserve name from an Index\u001b[39;00m\n",
      "File \u001b[1;32m~\\AppData\\Local\\Programs\\Python\\Python312\\Lib\\site-packages\\pandas\\core\\indexes\\base.py:6252\u001b[0m, in \u001b[0;36mIndex._raise_if_missing\u001b[1;34m(self, key, indexer, axis_name)\u001b[0m\n\u001b[0;32m   6249\u001b[0m     \u001b[38;5;28;01mraise\u001b[39;00m \u001b[38;5;167;01mKeyError\u001b[39;00m(\u001b[38;5;124mf\u001b[39m\u001b[38;5;124m\"\u001b[39m\u001b[38;5;124mNone of [\u001b[39m\u001b[38;5;132;01m{\u001b[39;00mkey\u001b[38;5;132;01m}\u001b[39;00m\u001b[38;5;124m] are in the [\u001b[39m\u001b[38;5;132;01m{\u001b[39;00maxis_name\u001b[38;5;132;01m}\u001b[39;00m\u001b[38;5;124m]\u001b[39m\u001b[38;5;124m\"\u001b[39m)\n\u001b[0;32m   6251\u001b[0m not_found \u001b[38;5;241m=\u001b[39m \u001b[38;5;28mlist\u001b[39m(ensure_index(key)[missing_mask\u001b[38;5;241m.\u001b[39mnonzero()[\u001b[38;5;241m0\u001b[39m]]\u001b[38;5;241m.\u001b[39munique())\n\u001b[1;32m-> 6252\u001b[0m \u001b[38;5;28;01mraise\u001b[39;00m \u001b[38;5;167;01mKeyError\u001b[39;00m(\u001b[38;5;124mf\u001b[39m\u001b[38;5;124m\"\u001b[39m\u001b[38;5;132;01m{\u001b[39;00mnot_found\u001b[38;5;132;01m}\u001b[39;00m\u001b[38;5;124m not in index\u001b[39m\u001b[38;5;124m\"\u001b[39m)\n",
      "\u001b[1;31mKeyError\u001b[0m: \"['Rebounds', 'Assists', 'Steals', 'Blocks', '3PT%'] not in index\""
     ]
    }
   ],
   "source": [
    "import pandas as pd\n",
    "\n",
    "# Read file and skip the first two junk rows\n",
    "df = pd.read_csv(\"data/basketball_2023.csv\", skiprows=2)\n",
    "\n",
    "# Rename required columns (based on your data structure)\n",
    "df = df.rename(columns={\n",
    "    'Unnamed: 1': 'Player',\n",
    "    'Unnamed: 2': 'GP-GS',\n",
    "    'Unnamed: 21': 'PTS',\n",
    "    'Unnamed: 22': 'AVG',\n",
    "    'Unnamed: 13': 'Rebounds',\n",
    "    'Unnamed: 17': 'Assists',\n",
    "    'Unnamed: 20': 'Steals',\n",
    "    'Unnamed: 19': 'Blocks',\n",
    "    'Unnamed: 6': 'FG%',\n",
    "    'Unnamed: 8': '3PT%',\n",
    "    'Unnamed: 9': 'FT%'\n",
    "})\n",
    "\n",
    "# Keep only required columns\n",
    "df = df[['Player', 'GP-GS', 'PTS', 'AVG', 'Rebounds', 'Assists', 'Steals', 'Blocks', 'FG%', '3PT%', 'FT%']]\n",
    "\n",
    "# Drop any rows where Player is NaN or Player == \"#\"\n",
    "df = df[df['Player'].notna()]\n",
    "df = df[df['Player'] != '#']\n",
    "\n",
    "# Save cleaned file\n",
    "df.to_csv(\"data/basketball_2023_clean.csv\", index=False)\n",
    "\n",
    "print(df.head())\n"
   ]
  },
  {
   "cell_type": "code",
   "execution_count": 4,
   "id": "c13a8977-2b97-44b8-86c4-15fc421f5cb7",
   "metadata": {},
   "outputs": [
    {
     "name": "stdout",
     "output_type": "stream",
     "text": [
      "['#', 'Player', 'GP-GS', 'MIN', 'AVG', 'FG-FGA', 'FG%', '3FG-FGA', '3FG%', 'FT-FTA', 'FT%', 'OFF', 'DEF', 'TOT', 'AVG.1', 'PF', 'DQ', 'A', 'TO', 'BLK', 'STL', 'PTS', 'AVG.2']\n",
      "    #          Player  GP-GS   MIN   AVG   FG-FGA    FG% 3FG-FGA   3FG%  \\\n",
      "0  03    Mintz, Judah  32-31  1087  34.0  188-429  0.438   24-85  0.282   \n",
      "1  02  Starling, J.J.  32-32  1102  34.4  171-373  0.458  44-136  0.324   \n",
      "2  04     Bell, Chris  32-32   867  27.1  134-309  0.434  84-200  0.420   \n",
      "\n",
      "    FT-FTA  ...  TOT  AVG.1  PF  DQ    A  TO  BLK  STL  PTS  AVG.2  \n",
      "0  202-264  ...  103    3.2  70   2  142  94    4   67  602   18.8  \n",
      "1    40-56  ...  103    3.2  42   0   60  55    6   27  426   13.3  \n",
      "2    32-38  ...   75    2.3  58   1   21  26   22   18  384   12.0  \n",
      "\n",
      "[3 rows x 23 columns]\n"
     ]
    }
   ],
   "source": [
    "import pandas as pd\n",
    "\n",
    "df = pd.read_csv(\"data/basketball_2023.csv\", skiprows=2)\n",
    "print(df.columns.tolist())\n",
    "print(df.head(3))\n"
   ]
  },
  {
   "cell_type": "code",
   "execution_count": 5,
   "id": "b92adf92-6242-4c0f-a8f4-87ece1ec7a97",
   "metadata": {},
   "outputs": [
    {
     "name": "stdout",
     "output_type": "stream",
     "text": [
      "             Player  GP-GS  PTS   AVG  Rebounds  Assists  Steals  Blocks  \\\n",
      "0      Mintz, Judah  32-31  602  18.8       103      142      67       4   \n",
      "1    Starling, J.J.  32-32  426  13.3       103       60      27       6   \n",
      "2       Bell, Chris  32-32  384  12.0        75       21      18      22   \n",
      "3  Copeland, Quadir   32-1  307   9.6       148       89      47       6   \n",
      "4      Brown, Maliq  32-18  305   9.5       230       59      71      29   \n",
      "\n",
      "     FG%   3PT%    FT%  \n",
      "0  0.438  0.282  0.765  \n",
      "1  0.458  0.324  0.714  \n",
      "2  0.434  0.420  0.842  \n",
      "3  0.478  0.250  0.683  \n",
      "4  0.698  0.389  0.721  \n"
     ]
    }
   ],
   "source": [
    "import pandas as pd\n",
    "\n",
    "# Load and clean\n",
    "df = pd.read_csv(\"data/basketball_2023.csv\", skiprows=2)\n",
    "\n",
    "# Keep only useful columns and rename them\n",
    "df = df[['Player', 'GP-GS', 'PTS', 'AVG.2', 'TOT', 'A', 'STL', 'BLK', 'FG%', '3FG%', 'FT%']]\n",
    "\n",
    "# Rename columns to standard names\n",
    "df = df.rename(columns={\n",
    "    'AVG.2': 'AVG',\n",
    "    'TOT': 'Rebounds',\n",
    "    'A': 'Assists',\n",
    "    'STL': 'Steals',\n",
    "    'BLK': 'Blocks',\n",
    "    '3FG%': '3PT%'\n",
    "})\n",
    "\n",
    "# Drop any empty rows (if exist)\n",
    "df = df.dropna(subset=['Player'])\n",
    "\n",
    "# Save the cleaned version\n",
    "df.to_csv(\"data/basketball_2023_clean.csv\", index=False)\n",
    "\n",
    "print(df.head())\n"
   ]
  },
  {
   "cell_type": "code",
   "execution_count": 6,
   "id": "5fa6b489-483c-46e5-a965-d255676cfd70",
   "metadata": {},
   "outputs": [
    {
     "name": "stdout",
     "output_type": "stream",
     "text": [
      "Players: 13\n",
      "Columns: ['Player', 'GP-GS', 'PTS', 'AVG', 'Rebounds', 'Assists', 'Steals', 'Blocks', 'FG%', '3PT%', 'FT%']\n",
      "\n",
      "Top Scorer: Mintz, Judah - 602 points\n",
      "Best 3PT%: Ruffin, Niko - 0.5\n",
      "Most Rebounds: Brown, Maliq - 230\n"
     ]
    }
   ],
   "source": [
    "%run scripts/validate_stats.py"
   ]
  },
  {
   "cell_type": "code",
   "execution_count": 1,
   "id": "9c9d821f-739f-4f63-8dff-4e043d853e0d",
   "metadata": {},
   "outputs": [
    {
     "name": "stdout",
     "output_type": "stream",
     "text": [
      "✅ evaluation.csv created successfully\n"
     ]
    }
   ],
   "source": [
    "import pandas as pd\n",
    "\n",
    "data = [\n",
    "    [\"Who scored the most points?\", \"Judah Mintz – 602\", \"Yes\", \"Matches dataset\"],\n",
    "    [\"Who was the best 3PT shooter?\", \"Niko Ruffin – 50%\", \"Yes\", \"Correct\"],\n",
    "    [\"Who contributed the most rebounds?\", \"Maliq Brown – 230\", \"Yes\", \"Correct\"],\n",
    "    [\"Who was the most efficient scorer?\", \"Maliq Brown\", \"Yes\", \"Based on FG% and scoring\"],\n",
    "    [\"Best all-around contributor?\", \"Judah Mintz\", \"Yes\", \"Reasonable based on stats\"],\n",
    "    [\"Should coach focus on offense or defense?\", \"Improve both, esp. defense\", \"Partial\", \"Opinion, partially valid\"],\n",
    "    [\"Biggest game-changer?\", \"Maliq Brown\", \"Yes\", \"Supported by stats\"]\n",
    "]\n",
    "\n",
    "df = pd.DataFrame(data, columns=[\"Question\", \"LLM Response\", \"Correct?\", \"Notes\"])\n",
    "df.to_csv(\"results/evaluation.csv\", index=False)\n",
    "\n",
    "print(\"✅ evaluation.csv created successfully\")\n"
   ]
  },
  {
   "cell_type": "code",
   "execution_count": null,
   "id": "b3090d4c-c49e-4af8-b1e4-d859bd19747d",
   "metadata": {},
   "outputs": [],
   "source": []
  }
 ],
 "metadata": {
  "kernelspec": {
   "display_name": "Python 3 (ipykernel)",
   "language": "python",
   "name": "python3"
  },
  "language_info": {
   "codemirror_mode": {
    "name": "ipython",
    "version": 3
   },
   "file_extension": ".py",
   "mimetype": "text/x-python",
   "name": "python",
   "nbconvert_exporter": "python",
   "pygments_lexer": "ipython3",
   "version": "3.12.3"
  }
 },
 "nbformat": 4,
 "nbformat_minor": 5
}
